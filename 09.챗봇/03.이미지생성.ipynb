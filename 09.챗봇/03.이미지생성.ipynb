{
 "cells": [
  {
   "cell_type": "markdown",
   "metadata": {},
   "source": [
    "## OpenAI API 사용하기\n",
    "- ChatGPT 3.5 + Dall-E 사용하여 이미지 생성하기\n",
    "- openai 패키지 설치: conda activate base; pip install openai"
   ]
  },
  {
   "cell_type": "code",
   "execution_count": null,
   "metadata": {},
   "outputs": [],
   "source": [
    "import openai\n",
    "import requests\n",
    "from PIL import Image\n",
    "import matplotlib.pyplot as plt"
   ]
  },
  {
   "cell_type": "code",
   "execution_count": null,
   "metadata": {},
   "outputs": [],
   "source": [
    "with open('keys/openAiApiKey.txt') as file:\n",
    "    openai.api_key = file.read()"
   ]
  },
  {
   "cell_type": "code",
   "execution_count": null,
   "metadata": {},
   "outputs": [],
   "source": [
    "user_input = '석양이 지는 해변가에서 하이볼을 마시는 노인'\n",
    "gpt_prompt = [\n",
    "    {'role': 'system', 'content': 'Translate it in English'},\n",
    "    {'role': 'user', 'content': user_input}\n",
    "]"
   ]
  },
  {
   "cell_type": "code",
   "execution_count": null,
   "metadata": {},
   "outputs": [],
   "source": [
    "chatgpt_response = openai.ChatCompletion.create(\n",
    "    model='gpt-3.5-turbo', messages=gpt_prompt\n",
    ")\n",
    "chatgpt_response"
   ]
  },
  {
   "cell_type": "code",
   "execution_count": null,
   "metadata": {},
   "outputs": [],
   "source": [
    "translated_prompt = chatgpt_response[\"choices\"][0][\"message\"][\"content\"]\n",
    "translated_prompt"
   ]
  },
  {
   "cell_type": "code",
   "execution_count": null,
   "metadata": {},
   "outputs": [],
   "source": [
    "gpt_prompt = [\n",
    "    {'role': 'system', \n",
    "     'content': 'Imagine the detail appearance of the input. Response it shortly around 20 words.'},\n",
    "    {'role': 'user', 'content': translated_prompt}\n",
    "]\n",
    "chatgpt_response = openai.ChatCompletion.create(\n",
    "    model='gpt-3.5-turbo', messages=gpt_prompt\n",
    ")\n",
    "prompt = chatgpt_response[\"choices\"][0][\"message\"][\"content\"]\n",
    "prompt"
   ]
  },
  {
   "cell_type": "code",
   "execution_count": null,
   "metadata": {},
   "outputs": [],
   "source": [
    "dalle_response = openai.Image.create(\n",
    "    prompt=prompt, size='1024x1024'\n",
    ")\n",
    "dalle_response"
   ]
  },
  {
   "cell_type": "code",
   "execution_count": null,
   "metadata": {},
   "outputs": [],
   "source": [
    "img_url = dalle_response[\"data\"][0][\"url\"]\n",
    "response = requests.get(img_url)\n",
    "\n",
    "with open('data/result.png', 'wb') as img_file:         # wb : write binary\n",
    "    img_file.write(response.content)"
   ]
  },
  {
   "cell_type": "code",
   "execution_count": null,
   "metadata": {},
   "outputs": [],
   "source": [
    "img = Image.open('data/result.png')\n",
    "plt.figure(figsize=(6,6))\n",
    "plt.imshow(img)\n",
    "plt.axis('off')\n",
    "plt.show()"
   ]
  }
 ],
 "metadata": {
  "kernelspec": {
   "display_name": "base",
   "language": "python",
   "name": "python3"
  },
  "language_info": {
   "codemirror_mode": {
    "name": "ipython",
    "version": 3
   },
   "file_extension": ".py",
   "mimetype": "text/x-python",
   "name": "python",
   "nbconvert_exporter": "python",
   "pygments_lexer": "ipython3",
   "version": "3.11.4"
  }
 },
 "nbformat": 4,
 "nbformat_minor": 2
}
